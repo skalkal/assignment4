{
 "cells": [
  {
   "cell_type": "code",
   "execution_count": 1,
   "id": "a702f476",
   "metadata": {},
   "outputs": [
    {
     "name": "stdout",
     "output_type": "stream",
     "text": [
      "Requirement already satisfied: selenium in c:\\users\\skalk\\anaconda3\\lib\\site-packages (4.7.2)\n",
      "Requirement already satisfied: urllib3[socks]~=1.26 in c:\\users\\skalk\\anaconda3\\lib\\site-packages (from selenium) (1.26.9)\n",
      "Requirement already satisfied: trio~=0.17 in c:\\users\\skalk\\anaconda3\\lib\\site-packages (from selenium) (0.22.0)\n",
      "Requirement already satisfied: trio-websocket~=0.9 in c:\\users\\skalk\\anaconda3\\lib\\site-packages (from selenium) (0.9.2)\n",
      "Requirement already satisfied: certifi>=2021.10.8 in c:\\users\\skalk\\anaconda3\\lib\\site-packages (from selenium) (2021.10.8)\n",
      "Requirement already satisfied: outcome in c:\\users\\skalk\\anaconda3\\lib\\site-packages (from trio~=0.17->selenium) (1.2.0)\n",
      "Requirement already satisfied: async-generator>=1.9 in c:\\users\\skalk\\anaconda3\\lib\\site-packages (from trio~=0.17->selenium) (1.10)\n",
      "Requirement already satisfied: sortedcontainers in c:\\users\\skalk\\anaconda3\\lib\\site-packages (from trio~=0.17->selenium) (2.4.0)\n",
      "Requirement already satisfied: idna in c:\\users\\skalk\\anaconda3\\lib\\site-packages (from trio~=0.17->selenium) (3.3)\n",
      "Requirement already satisfied: exceptiongroup>=1.0.0rc9 in c:\\users\\skalk\\anaconda3\\lib\\site-packages (from trio~=0.17->selenium) (1.1.0)\n",
      "Requirement already satisfied: attrs>=19.2.0 in c:\\users\\skalk\\anaconda3\\lib\\site-packages (from trio~=0.17->selenium) (21.4.0)\n",
      "Requirement already satisfied: sniffio in c:\\users\\skalk\\anaconda3\\lib\\site-packages (from trio~=0.17->selenium) (1.2.0)\n",
      "Requirement already satisfied: cffi>=1.14 in c:\\users\\skalk\\anaconda3\\lib\\site-packages (from trio~=0.17->selenium) (1.15.0)\n",
      "Requirement already satisfied: pycparser in c:\\users\\skalk\\anaconda3\\lib\\site-packages (from cffi>=1.14->trio~=0.17->selenium) (2.21)\n",
      "Requirement already satisfied: wsproto>=0.14 in c:\\users\\skalk\\anaconda3\\lib\\site-packages (from trio-websocket~=0.9->selenium) (1.2.0)\n",
      "Requirement already satisfied: PySocks!=1.5.7,<2.0,>=1.5.6 in c:\\users\\skalk\\anaconda3\\lib\\site-packages (from urllib3[socks]~=1.26->selenium) (1.7.1)\n",
      "Requirement already satisfied: h11<1,>=0.9.0 in c:\\users\\skalk\\anaconda3\\lib\\site-packages (from wsproto>=0.14->trio-websocket~=0.9->selenium) (0.14.0)\n",
      "Note: you may need to restart the kernel to use updated packages.\n"
     ]
    }
   ],
   "source": [
    "pip install selenium"
   ]
  },
  {
   "cell_type": "code",
   "execution_count": 2,
   "id": "ab3aa4e6",
   "metadata": {},
   "outputs": [],
   "source": [
    "import selenium\n",
    "import pandas as pd\n",
    "from selenium import webdriver\n",
    "import warnings\n",
    "warnings.filterwarnings('ignore')\n",
    "from selenium.common.exceptions import StaleElementReferenceException,NoSuchElementException\n",
    "from selenium.webdriver.common.by import By\n",
    "import time"
   ]
  },
  {
   "cell_type": "code",
   "execution_count": 3,
   "id": "8e0c46d4",
   "metadata": {},
   "outputs": [],
   "source": [
    "#lets connect to the driver\n",
    "driver=webdriver.Chrome(r\"C:\\Users\\skalk\\Downloads\\chromedriver_win32 (2)\\chromedriver.exe\")"
   ]
  },
  {
   "cell_type": "code",
   "execution_count": 4,
   "id": "e1abad07",
   "metadata": {},
   "outputs": [],
   "source": [
    "#opening the Naukri page on automated Chrome Browser\n",
    "driver.get(\"https://en.wikipedia.org/wiki/List_of_most-viewed_YouTube_videos\")"
   ]
  },
  {
   "cell_type": "code",
   "execution_count": 5,
   "id": "a2ecc367",
   "metadata": {},
   "outputs": [],
   "source": [
    "#create empty list\n",
    "Rank=[]\n",
    "Name=[]\n",
    "Artist=[]\n",
    "Upload_date=[]\n",
    "Views=[]"
   ]
  },
  {
   "cell_type": "code",
   "execution_count": 6,
   "id": "70acf440",
   "metadata": {},
   "outputs": [],
   "source": [
    "#Scraping Rank,Name,Artist,Upload_date,Views\n",
    "title_tags=driver.find_elements(By.XPATH,'//a[@class=\"mw-redirect\"]')\n",
    "for i in title_tags[0:10]:\n",
    "    title=i.text\n",
    "    Name.append(title)"
   ]
  },
  {
   "cell_type": "markdown",
   "id": "d4bd5d42",
   "metadata": {},
   "source": []
  },
  {
   "cell_type": "code",
   "execution_count": 7,
   "id": "9c06d176",
   "metadata": {},
   "outputs": [
    {
     "data": {
      "text/plain": [
       "['music videos',\n",
       " 'Nike',\n",
       " 'regional restrictions',\n",
       " 'Baby Shark Dance',\n",
       " 'Johny Johny Yes Papa',\n",
       " 'Cocomelon – Nursery Rhymes',\n",
       " 'Cocomelon – Nursery Rhymes',\n",
       " 'Cocomelon – Nursery Rhymes',\n",
       " 'Alan Walker',\n",
       " 'Baby Shark Dance']"
      ]
     },
     "execution_count": 7,
     "metadata": {},
     "output_type": "execute_result"
    }
   ],
   "source": [
    "Name"
   ]
  },
  {
   "cell_type": "code",
   "execution_count": 8,
   "id": "d25b6ff7",
   "metadata": {},
   "outputs": [],
   "source": [
    "#proper class is not showing videonames because that class shows various other words and same for other options"
   ]
  },
  {
   "cell_type": "code",
   "execution_count": 9,
   "id": "93adb5f6",
   "metadata": {},
   "outputs": [],
   "source": [
    "driver.close()"
   ]
  },
  {
   "cell_type": "code",
   "execution_count": null,
   "id": "c4b1b0d8",
   "metadata": {},
   "outputs": [],
   "source": [
    "Q.2  Scrape the details team India’s international fixtures from bcci.tv.\n",
    "Url = https://www.bcci.tv/.\n",
    "You need to find following details:\n",
    "A) Match title (I.e. 1st ODI)\n",
    "B) Series\n",
    "C) Place\n",
    "D) Date\n",
    "E) Time\n",
    "Note: - From bcci.tv home page you have reach to the international fixture page through code"
   ]
  },
  {
   "cell_type": "code",
   "execution_count": 11,
   "id": "99acd8a7",
   "metadata": {},
   "outputs": [],
   "source": [
    "#lets connect to the driver\n",
    "driver=webdriver.Chrome(r\"C:\\Users\\skalk\\Downloads\\chromedriver_win32 (2)\\chromedriver.exe\")\n",
    "#opening the Naukri page on automated Chrome Browser\n",
    "driver.get(\"https://www.bcci.tv/\")"
   ]
  },
  {
   "cell_type": "code",
   "execution_count": 12,
   "id": "89c499c5",
   "metadata": {},
   "outputs": [],
   "source": [
    "option=driver.find_element(By.XPATH,'/html/body/nav/div[1]/div[2]/ul[1]/li[2]/a')\n",
    "option.click()"
   ]
  },
  {
   "cell_type": "code",
   "execution_count": 13,
   "id": "10449d14",
   "metadata": {},
   "outputs": [],
   "source": [
    "#create empty list\n",
    "match_title=[]\n",
    "series=[]\n",
    "place=[]\n",
    "date=[]\n",
    "time=[]"
   ]
  },
  {
   "cell_type": "code",
   "execution_count": 32,
   "id": "714e987e",
   "metadata": {},
   "outputs": [],
   "source": [
    "#Scraping match_title,series,place,date,time\n",
    "title_tags=driver.find_elements(By.XPATH,'//span[@class=\"ng-binding\"]')\n",
    "for i in title_tags[0:8]:\n",
    "    title=i.text\n",
    "    match_title.append(title)\n",
    "location_tags=driver.find_elements(By.XPATH,'//span[@class=\"matchOrderText ng-binding ng-scope\"]')\n",
    "for i in location_tags[0:8]:\n",
    "    location=i.text\n",
    "    series.append(location)\n",
    "company_tags=driver.find_elements(By.XPATH,'//div[@class=\"fix-place ng-binding ng-scope\"]')\n",
    "for i in company_tags[0:8]:\n",
    "    company=i.text\n",
    "    place.append(company)\n",
    "experience_tags=driver.find_elements(By.XPATH,'//div[@class=\"match-card-left match-schedule\"]')\n",
    "for i in experience_tags[0:8]:\n",
    "    exp=i.text\n",
    "    date.append(exp)\n",
    "time_tags=driver.find_elements(By.XPATH,'//h5[@class=\"text-right ng-binding\"]')\n",
    "for i in time_tags[0:8]:\n",
    "    exp=i.text\n",
    "    time.append(exp)    "
   ]
  },
  {
   "cell_type": "code",
   "execution_count": 33,
   "id": "12b29935",
   "metadata": {},
   "outputs": [
    {
     "name": "stdout",
     "output_type": "stream",
     "text": [
      "80 75 72 72 63\n"
     ]
    }
   ],
   "source": [
    "#to show len of each title\n",
    "print(len(match_title),len(series),len(place),len(date),len(time))"
   ]
  },
  {
   "cell_type": "code",
   "execution_count": 38,
   "id": "6f390e15",
   "metadata": {},
   "outputs": [],
   "source": [
    "#Scraping match_title,series,place,date,time\n",
    "title_tags=driver.find_elements(By.XPATH,'//span[@class=\"ng-binding\"]')\n",
    "for i in title_tags[0:10]:\n",
    "    title=i.text\n",
    "    match_title.append(title)\n",
    "location_tags=driver.find_elements(By.XPATH,'//span[@class=\"matchOrderText ng-binding ng-scope\"]')\n",
    "for i in location_tags[0:10]:\n",
    "    location=i.text\n",
    "    series.append(location)\n",
    "company_tags=driver.find_elements(By.XPATH,'//div[@class=\"fix-place ng-binding ng-scope\"]')\n",
    "for i in company_tags[0:10]:\n",
    "    company=i.text\n",
    "    place.append(company)\n",
    "experience_tags=driver.find_elements(By.XPATH,'//div[@class=\"match-card-left match-schedule\"]')\n",
    "for i in experience_tags[0:10]:\n",
    "    exp=i.text\n",
    "    date.append(exp)\n",
    "time_tags=driver.find_elements(By.XPATH,'//h5[@class=\"text-right ng-binding\"]')\n",
    "for i in time_tags[0:10]:\n",
    "    exp=i.text\n",
    "    time.append(exp)    "
   ]
  },
  {
   "cell_type": "code",
   "execution_count": 39,
   "id": "e20d93ea",
   "metadata": {},
   "outputs": [
    {
     "name": "stdout",
     "output_type": "stream",
     "text": [
      "106 99 96 96 84\n"
     ]
    }
   ],
   "source": [
    "#to show len of each title\n",
    "print(len(match_title),len(series),len(place),len(date),len(time))"
   ]
  },
  {
   "cell_type": "code",
   "execution_count": 40,
   "id": "49bb9ade",
   "metadata": {},
   "outputs": [
    {
     "data": {
      "text/html": [
       "<div>\n",
       "<style scoped>\n",
       "    .dataframe tbody tr th:only-of-type {\n",
       "        vertical-align: middle;\n",
       "    }\n",
       "\n",
       "    .dataframe tbody tr th {\n",
       "        vertical-align: top;\n",
       "    }\n",
       "\n",
       "    .dataframe thead th {\n",
       "        text-align: right;\n",
       "    }\n",
       "</style>\n",
       "<table border=\"1\" class=\"dataframe\">\n",
       "  <thead>\n",
       "    <tr style=\"text-align: right;\">\n",
       "      <th></th>\n",
       "      <th>Match_title</th>\n",
       "      <th>Series</th>\n",
       "      <th>Place</th>\n",
       "      <th>Time</th>\n",
       "    </tr>\n",
       "  </thead>\n",
       "  <tbody>\n",
       "    <tr>\n",
       "      <th>0</th>\n",
       "      <td>AUSTRALIA TOUR OF INDIA TEST SERIES 2022-23</td>\n",
       "      <td>1st Test -</td>\n",
       "      <td>1st Test - Vidarbha Cricket Association Stadiu...</td>\n",
       "      <td>6:30 PM IST</td>\n",
       "    </tr>\n",
       "    <tr>\n",
       "      <th>1</th>\n",
       "      <td>Australia Trail By 134 Runs</td>\n",
       "      <td>1st T20I -</td>\n",
       "      <td>1st T20I - Newlands, Cape Town</td>\n",
       "      <td>6:30 PM IST</td>\n",
       "    </tr>\n",
       "    <tr>\n",
       "      <th>2</th>\n",
       "      <td>(63.5 ov)</td>\n",
       "      <td>2nd T20I -</td>\n",
       "      <td>2nd T20I - Newlands, Cape Town</td>\n",
       "      <td>9:30 AM IST</td>\n",
       "    </tr>\n",
       "    <tr>\n",
       "      <th>3</th>\n",
       "      <td>ICC WOMENS T20 WORLD CUP 2023</td>\n",
       "      <td>2nd Test -</td>\n",
       "      <td>2nd Test - Arun Jaitley Stadium, Delhi</td>\n",
       "      <td>6:30 PM IST</td>\n",
       "    </tr>\n",
       "    <tr>\n",
       "      <th>4</th>\n",
       "      <td>ICC WOMENS T20 WORLD CUP 2023</td>\n",
       "      <td>3rd T20I -</td>\n",
       "      <td>3rd T20I - St George's Park, Gqeberha</td>\n",
       "      <td>6:30 PM IST</td>\n",
       "    </tr>\n",
       "    <tr>\n",
       "      <th>5</th>\n",
       "      <td>AUSTRALIA TOUR OF INDIA TEST SERIES 2022-23</td>\n",
       "      <td>4th T20I -</td>\n",
       "      <td>4th T20I - St George's Park, Gqeberha</td>\n",
       "      <td>9:30 AM IST</td>\n",
       "    </tr>\n",
       "    <tr>\n",
       "      <th>6</th>\n",
       "      <td>ICC WOMENS T20 WORLD CUP 2023</td>\n",
       "      <td>3rd Test -</td>\n",
       "      <td>3rd Test - Himachal Pradesh Cricket Associatio...</td>\n",
       "      <td>9:30 AM IST</td>\n",
       "    </tr>\n",
       "    <tr>\n",
       "      <th>7</th>\n",
       "      <td>ICC WOMENS T20 WORLD CUP 2023</td>\n",
       "      <td>4th Test -</td>\n",
       "      <td>4th Test - Narendra Modi Stadium, Ahmedabad</td>\n",
       "      <td>6:30 PM IST</td>\n",
       "    </tr>\n",
       "    <tr>\n",
       "      <th>8</th>\n",
       "      <td>AUSTRALIA TOUR OF INDIA TEST SERIES 2022-23</td>\n",
       "      <td>1st Test -</td>\n",
       "      <td>1st Test - Vidarbha Cricket Association Stadiu...</td>\n",
       "      <td>6:30 PM IST</td>\n",
       "    </tr>\n",
       "    <tr>\n",
       "      <th>9</th>\n",
       "      <td>Australia Trail By 133 Runs</td>\n",
       "      <td>1st T20I -</td>\n",
       "      <td>1st T20I - Newlands, Cape Town</td>\n",
       "      <td>9:30 AM IST</td>\n",
       "    </tr>\n",
       "  </tbody>\n",
       "</table>\n",
       "</div>"
      ],
      "text/plain": [
       "                                   Match_title      Series  \\\n",
       "0  AUSTRALIA TOUR OF INDIA TEST SERIES 2022-23  1st Test -   \n",
       "1                  Australia Trail By 134 Runs  1st T20I -   \n",
       "2                                    (63.5 ov)  2nd T20I -   \n",
       "3                ICC WOMENS T20 WORLD CUP 2023  2nd Test -   \n",
       "4                ICC WOMENS T20 WORLD CUP 2023  3rd T20I -   \n",
       "5  AUSTRALIA TOUR OF INDIA TEST SERIES 2022-23  4th T20I -   \n",
       "6                ICC WOMENS T20 WORLD CUP 2023  3rd Test -   \n",
       "7                ICC WOMENS T20 WORLD CUP 2023  4th Test -   \n",
       "8  AUSTRALIA TOUR OF INDIA TEST SERIES 2022-23  1st Test -   \n",
       "9                  Australia Trail By 133 Runs  1st T20I -   \n",
       "\n",
       "                                               Place         Time  \n",
       "0  1st Test - Vidarbha Cricket Association Stadiu...  6:30 PM IST  \n",
       "1                     1st T20I - Newlands, Cape Town  6:30 PM IST  \n",
       "2                     2nd T20I - Newlands, Cape Town  9:30 AM IST  \n",
       "3             2nd Test - Arun Jaitley Stadium, Delhi  6:30 PM IST  \n",
       "4              3rd T20I - St George's Park, Gqeberha  6:30 PM IST  \n",
       "5              4th T20I - St George's Park, Gqeberha  9:30 AM IST  \n",
       "6  3rd Test - Himachal Pradesh Cricket Associatio...  9:30 AM IST  \n",
       "7        4th Test - Narendra Modi Stadium, Ahmedabad  6:30 PM IST  \n",
       "8  1st Test - Vidarbha Cricket Association Stadiu...  6:30 PM IST  \n",
       "9                     1st T20I - Newlands, Cape Town  9:30 AM IST  "
      ]
     },
     "execution_count": 40,
     "metadata": {},
     "output_type": "execute_result"
    }
   ],
   "source": [
    "df=pd.DataFrame({'Match_title':match_title[0:10],'Series':series[0:10],'Place':place[0:10],'Time':time[0:10]})\n",
    "df"
   ]
  },
  {
   "cell_type": "code",
   "execution_count": 41,
   "id": "4d689aff",
   "metadata": {},
   "outputs": [],
   "source": [
    "driver.close()"
   ]
  },
  {
   "cell_type": "code",
   "execution_count": null,
   "id": "4b6d88f0",
   "metadata": {},
   "outputs": [],
   "source": [
    "Q.5 Scrape the details of top 100 songs on billiboard.com.\n",
    "Url = https:/www.billboard.com/\n",
    "You have to find the following details:\n",
    "A) Song name\n",
    "B) Artist name\n",
    "C) Last week rank\n",
    "D) Peak rank\n",
    "E) Weeks on board\n",
    "Note: - From the home page you have to click on the charts option then hot 100-page link through code."
   ]
  },
  {
   "cell_type": "code",
   "execution_count": 45,
   "id": "052b56eb",
   "metadata": {},
   "outputs": [],
   "source": [
    "#lets connect to the driver\n",
    "driver=webdriver.Chrome(r\"C:\\Users\\skalk\\Downloads\\chromedriver_win32 (2)\\chromedriver.exe\")\n",
    "#opening the Naukri page on automated Chrome Browser\n",
    "driver.get(\"https:/www.billboard.com/\")"
   ]
  },
  {
   "cell_type": "code",
   "execution_count": 47,
   "id": "7f42380c",
   "metadata": {},
   "outputs": [],
   "source": [
    "charts=driver.find_element(By.XPATH,'/html/body/div[3]/div[9]/div/div/div/ul/li[1]/h3/a')\n",
    "charts.click()"
   ]
  },
  {
   "cell_type": "code",
   "execution_count": 48,
   "id": "ea37d0e4",
   "metadata": {},
   "outputs": [],
   "source": [
    "hots100=driver.find_element(By.XPATH,'/html/body/div[3]/main/div[2]/div[1]/div[1]/div/div/div[1]/div[1]/div[2]/span/a')\n",
    "hots100.click()"
   ]
  },
  {
   "cell_type": "code",
   "execution_count": 49,
   "id": "d6b2ff40",
   "metadata": {},
   "outputs": [],
   "source": [
    "song_name=[]\n",
    "artist_name=[]\n",
    "last_week_rank=[]\n",
    "peak_rank=[]\n",
    "weeks_on_board=[]"
   ]
  },
  {
   "cell_type": "code",
   "execution_count": 56,
   "id": "1b30eda1",
   "metadata": {},
   "outputs": [],
   "source": [
    "title_tags=driver.find_elements(By.XPATH,'//h3[@class=\"c-title  a-no-trucate a-font-primary-bold-s u-letter-spacing-0021 u-font-size-23@tablet lrv-u-font-size-16 u-line-height-125 u-line-height-normal@mobile-max a-truncate-ellipsis u-max-width-245 u-max-width-230@tablet-only u-letter-spacing-0028@tablet\"]')\n",
    "for i in title_tags[0:10]:\n",
    "    title=i.text\n",
    "    song_name.append(title)\n",
    "location_tags=driver.find_elements(By.XPATH,'//span[@class=\"c-label  a-no-trucate a-font-primary-s lrv-u-font-size-14@mobile-max u-line-height-normal@mobile-max u-letter-spacing-0021 lrv-u-display-block a-truncate-ellipsis-2line u-max-width-330 u-max-width-230@tablet-only u-font-size-20@tablet\"]')\n",
    "for i in location_tags[0:10]:\n",
    "    location=i.text\n",
    "    artist_name.append(location)\n",
    "company_tags=driver.find_elements(By.XPATH,'//span[@class=\"c-label  a-font-primary-bold-l a-font-primary-m@mobile-max u-font-weight-normal@mobile-max lrv-u-padding-tb-050@mobile-max u-font-size-32@tablet\"]')\n",
    "for i in company_tags[0:10]:\n",
    "    company=i.text\n",
    "    last_week_rank.append(company)\n",
    "experience_tags=driver.find_elements(By.XPATH,'//span[@class=\"c-label  a-font-primary-bold-l a-font-primary-m@mobile-max u-font-weight-normal@mobile-max lrv-u-padding-tb-050@mobile-max u-font-size-32@tablet\"]')\n",
    "for i in experience_tags[0:10]:\n",
    "    exp=i.text\n",
    "    peak_rank.append(exp)\n",
    "time_tags=driver.find_elements(By.XPATH,'//span[@class=\"c-label  a-font-primary-bold-l a-font-primary-m@mobile-max u-font-weight-normal@mobile-max lrv-u-padding-tb-050@mobile-max u-font-size-32@tablet\"]')\n",
    "for i in time_tags[0:10]:\n",
    "    exp=i.text\n",
    "    weeks_on_board.append(exp)    "
   ]
  },
  {
   "cell_type": "code",
   "execution_count": 57,
   "id": "ae3b61c5",
   "metadata": {},
   "outputs": [
    {
     "name": "stdout",
     "output_type": "stream",
     "text": [
      "3 3 18 18 18\n"
     ]
    }
   ],
   "source": [
    "#to show len of each title\n",
    "print(len(song_name),len(artist_name),len(last_week_rank),len(peak_rank),len(weeks_on_board))"
   ]
  },
  {
   "cell_type": "code",
   "execution_count": 59,
   "id": "0b80a22d",
   "metadata": {},
   "outputs": [
    {
     "data": {
      "text/html": [
       "<div>\n",
       "<style scoped>\n",
       "    .dataframe tbody tr th:only-of-type {\n",
       "        vertical-align: middle;\n",
       "    }\n",
       "\n",
       "    .dataframe tbody tr th {\n",
       "        vertical-align: top;\n",
       "    }\n",
       "\n",
       "    .dataframe thead th {\n",
       "        text-align: right;\n",
       "    }\n",
       "</style>\n",
       "<table border=\"1\" class=\"dataframe\">\n",
       "  <thead>\n",
       "    <tr style=\"text-align: right;\">\n",
       "      <th></th>\n",
       "      <th>Song_name</th>\n",
       "      <th>Artist_name</th>\n",
       "      <th>Last_week_rank</th>\n",
       "      <th>Peak_rank</th>\n",
       "      <th>Weeks_on_board</th>\n",
       "    </tr>\n",
       "  </thead>\n",
       "  <tbody>\n",
       "    <tr>\n",
       "      <th>0</th>\n",
       "      <td>Flowers</td>\n",
       "      <td>Miley Cyrus</td>\n",
       "      <td>1</td>\n",
       "      <td>1</td>\n",
       "      <td>1</td>\n",
       "    </tr>\n",
       "    <tr>\n",
       "      <th>1</th>\n",
       "      <td>Flowers</td>\n",
       "      <td>Miley Cyrus</td>\n",
       "      <td>1</td>\n",
       "      <td>1</td>\n",
       "      <td>1</td>\n",
       "    </tr>\n",
       "    <tr>\n",
       "      <th>2</th>\n",
       "      <td>Flowers</td>\n",
       "      <td>Miley Cyrus</td>\n",
       "      <td>3</td>\n",
       "      <td>3</td>\n",
       "      <td>3</td>\n",
       "    </tr>\n",
       "  </tbody>\n",
       "</table>\n",
       "</div>"
      ],
      "text/plain": [
       "  Song_name  Artist_name Last_week_rank Peak_rank Weeks_on_board\n",
       "0   Flowers  Miley Cyrus              1         1              1\n",
       "1   Flowers  Miley Cyrus              1         1              1\n",
       "2   Flowers  Miley Cyrus              3         3              3"
      ]
     },
     "execution_count": 59,
     "metadata": {},
     "output_type": "execute_result"
    }
   ],
   "source": [
    "df=pd.DataFrame({'Song_name':song_name[0:3],'Artist_name':artist_name[0:3],'Last_week_rank':last_week_rank[0:3],'Peak_rank':peak_rank[0:3],'Weeks_on_board':weeks_on_board[0:3]})\n",
    "df"
   ]
  },
  {
   "cell_type": "code",
   "execution_count": 60,
   "id": "746a6f31",
   "metadata": {},
   "outputs": [],
   "source": [
    "#shows error because particular class containg special information"
   ]
  },
  {
   "cell_type": "code",
   "execution_count": 61,
   "id": "24daba2f",
   "metadata": {},
   "outputs": [],
   "source": [
    "driver.close()"
   ]
  },
  {
   "cell_type": "code",
   "execution_count": null,
   "id": "c9fc397c",
   "metadata": {},
   "outputs": [],
   "source": [
    "Q.6 Scrape the details of Highest sellingnovels.\n",
    "Url = https://www.theguardian.com/news/datablog/2012/aug/09/best-selling-books-all-time-fifty-shades-greycompare/\n",
    "You have to find the following details:\n",
    "A) Book name\n",
    "B) Author name\n",
    "C) Volumes sold\n",
    "D) Publisher\n",
    "E) Genre"
   ]
  },
  {
   "cell_type": "code",
   "execution_count": 63,
   "id": "d39f78f9",
   "metadata": {},
   "outputs": [],
   "source": [
    "#lets connect to the driver\n",
    "driver=webdriver.Chrome(r\"C:\\Users\\skalk\\Downloads\\chromedriver_win32 (2)\\chromedriver.exe\")\n",
    "#opening the Naukri page on automated Chrome Browser\n",
    "driver.get(\"https://www.theguardian.com/news/datablog/2012/aug/09/best-selling-books-all-time-fifty-shades-grey-compare\")"
   ]
  },
  {
   "cell_type": "code",
   "execution_count": 64,
   "id": "cff448fc",
   "metadata": {},
   "outputs": [],
   "source": [
    "book_name=[]\n",
    "author_name=[]\n",
    "volumes_sold=[]\n",
    "publisher=[]\n",
    "genre=[]"
   ]
  },
  {
   "cell_type": "code",
   "execution_count": null,
   "id": "f99d916e",
   "metadata": {},
   "outputs": [],
   "source": [
    "title_tags=driver.find_elements(By.ID,'table-cell-10943-0-1')\n",
    "for i in title_tags[0:10]:\n",
    "    title=i.text\n",
    "    book_name.append(title)\n",
    "location_tags=driver.find_elements(By.ID,'table-cell-10943-0-2')\n",
    "for i in location_tags[0:10]:\n",
    "    location=i.text\n",
    "    author_name.append(location)\n",
    "company_tags=driver.find_elements(By.ID,'table-cell-10943-0-3')\n",
    "for i in company_tags[0:10]:\n",
    "    company=i.text\n",
    "    volumes_sold.append(company)\n",
    "experience_tags=driver.find_elements(By.ID,'table-cell-10943-0-4')\n",
    "for i in experience_tags[0:10]:\n",
    "    exp=i.text\n",
    "    publisher.append(exp)\n",
    "time_tags=driver.find_elements(By.ID,'table-cell-10943-0-5')\n",
    "for i in time_tags[0:10]:\n",
    "    exp=i.text\n",
    "    genre.append(exp)    "
   ]
  },
  {
   "cell_type": "code",
   "execution_count": null,
   "id": "820f885a",
   "metadata": {},
   "outputs": [],
   "source": []
  },
  {
   "cell_type": "code",
   "execution_count": null,
   "id": "6bc6fab9",
   "metadata": {},
   "outputs": [],
   "source": []
  },
  {
   "cell_type": "code",
   "execution_count": null,
   "id": "496758e6",
   "metadata": {},
   "outputs": [],
   "source": []
  },
  {
   "cell_type": "code",
   "execution_count": null,
   "id": "70353738",
   "metadata": {},
   "outputs": [],
   "source": []
  },
  {
   "cell_type": "code",
   "execution_count": null,
   "id": "3638742a",
   "metadata": {},
   "outputs": [],
   "source": [
    "Q.7 Scrape the details most watched tv series of all time from imdb.com.\n",
    "Url = https://www.imdb.com/list/ls095964455/\n",
    "You have to find the following details:\n",
    "A) Name\n",
    "B) Year span\n",
    "C) Genre\n",
    "D) Run time\n",
    "E) Ratings\n",
    "F) Votes"
   ]
  },
  {
   "cell_type": "code",
   "execution_count": 67,
   "id": "b15255a6",
   "metadata": {},
   "outputs": [],
   "source": [
    "#lets connect to the driver\n",
    "driver1=webdriver.Chrome(r\"C:\\Users\\skalk\\Downloads\\chromedriver_win32 (2)\\chromedriver.exe\")"
   ]
  },
  {
   "cell_type": "code",
   "execution_count": 68,
   "id": "39facb98",
   "metadata": {},
   "outputs": [],
   "source": [
    "#opening the Naukri page on automated Chrome Browser\n",
    "driver1.get(\"https://www.imdb.com/list/ls095964455/\")"
   ]
  },
  {
   "cell_type": "code",
   "execution_count": 69,
   "id": "5ecf518b",
   "metadata": {},
   "outputs": [],
   "source": [
    "Name=[]\n",
    "Year_span=[]\n",
    "Genre=[]\n",
    "Run_time=[]\n",
    "Ratings=[]\n",
    "Votes=[]"
   ]
  },
  {
   "cell_type": "code",
   "execution_count": null,
   "id": "ae36cddd",
   "metadata": {},
   "outputs": [],
   "source": [
    "location_tags=driver.find_elements(By.XPATH,'//span[@class=\"lister-item-year text-muted unbold\"]')\n",
    "for i in location_tags[0:100]:\n",
    "    location=i.text\n",
    "    Year_span.append(location)\n",
    "company_tags=driver.find_elements(By.XPATH,'//span[@class=\"genre\"]')\n",
    "for i in company_tags[0:100]:\n",
    "    company=i.text\n",
    "    Genre.append(company)\n",
    "experience_tags=driver.find_elements(By.XPATH,'//span[@class=\"runtime\"]')\n",
    "for i in experience_tags[0:100]:\n",
    "    exp=i.text\n",
    "    Run_time.append(exp)\n",
    "time_tags=driver.find_elements(By.XPATH,'//span[@class=\"ipl-rating-star__rating\"]')\n",
    "for i in time_tags[0:100]:\n",
    "    exp=i.text\n",
    "    Ratings.append(exp)    \n",
    "votes_tags=driver.find_elements(By.XPATH,'//span[@name=\"nv\"]')\n",
    "for i in votes_tags[0:100]:\n",
    "    vote=i.text\n",
    "    Votes.append(vote)    "
   ]
  },
  {
   "cell_type": "code",
   "execution_count": null,
   "id": "97e3573d",
   "metadata": {},
   "outputs": [],
   "source": []
  },
  {
   "cell_type": "code",
   "execution_count": null,
   "id": "9e562652",
   "metadata": {},
   "outputs": [],
   "source": []
  },
  {
   "cell_type": "code",
   "execution_count": null,
   "id": "6a0bbc7e",
   "metadata": {},
   "outputs": [],
   "source": []
  },
  {
   "cell_type": "code",
   "execution_count": null,
   "id": "f12533d4",
   "metadata": {},
   "outputs": [],
   "source": [
    "Q.8 Details of Datasets from UCI machine learning repositories.\n",
    "Url = https://archive.ics.uci.edu/\n",
    "You have to find the following details:\n",
    "A) Dataset name\n",
    "B) Data type\n",
    "C) Task\n",
    "D) Attribute type\n",
    "E) No of instances\n",
    "F) No of attribute\n",
    "G) Year\n",
    "Note: - from the home page you have to go to the ShowAllDataset page through code."
   ]
  },
  {
   "cell_type": "code",
   "execution_count": 75,
   "id": "cf33b664",
   "metadata": {},
   "outputs": [],
   "source": [
    "#lets connect to the driver\n",
    "driver2=webdriver.Chrome(r\"C:\\Users\\skalk\\Downloads\\chromedriver_win32 (2)\\chromedriver.exe\")"
   ]
  },
  {
   "cell_type": "code",
   "execution_count": 76,
   "id": "9cb10b6c",
   "metadata": {},
   "outputs": [
    {
     "ename": "WebDriverException",
     "evalue": "Message: unknown error: net::ERR_ADDRESS_UNREACHABLE\n  (Session info: chrome=109.0.5414.120)\nStacktrace:\nBacktrace:\n\t(No symbol) [0x01046643]\n\t(No symbol) [0x00FDBE21]\n\t(No symbol) [0x00EDDA9D]\n\t(No symbol) [0x00ED9E22]\n\t(No symbol) [0x00ECFCFD]\n\t(No symbol) [0x00ED1101]\n\t(No symbol) [0x00ECFFDD]\n\t(No symbol) [0x00ECF3BC]\n\t(No symbol) [0x00ECF2D8]\n\t(No symbol) [0x00ECDC68]\n\t(No symbol) [0x00ECE512]\n\t(No symbol) [0x00EDF75B]\n\t(No symbol) [0x00F47727]\n\t(No symbol) [0x00F2FD7C]\n\t(No symbol) [0x00F46B09]\n\t(No symbol) [0x00F2FB76]\n\t(No symbol) [0x00F049C1]\n\t(No symbol) [0x00F05E5D]\n\tGetHandleVerifier [0x012BA142+2497106]\n\tGetHandleVerifier [0x012E85D3+2686691]\n\tGetHandleVerifier [0x012EBB9C+2700460]\n\tGetHandleVerifier [0x010F3B10+635936]\n\t(No symbol) [0x00FE4A1F]\n\t(No symbol) [0x00FEA418]\n\t(No symbol) [0x00FEA505]\n\t(No symbol) [0x00FF508B]\n\tBaseThreadInitThunk [0x76B06BD9+25]\n\tRtlGetFullPathName_UEx [0x77DD8FD2+1218]\n\tRtlGetFullPathName_UEx [0x77DD8F9D+1165]\n",
     "output_type": "error",
     "traceback": [
      "\u001b[1;31m---------------------------------------------------------------------------\u001b[0m",
      "\u001b[1;31mWebDriverException\u001b[0m                        Traceback (most recent call last)",
      "Input \u001b[1;32mIn [76]\u001b[0m, in \u001b[0;36m<cell line: 2>\u001b[1;34m()\u001b[0m\n\u001b[0;32m      1\u001b[0m \u001b[38;5;66;03m#opening the Naukri page on automated Chrome Browser\u001b[39;00m\n\u001b[1;32m----> 2\u001b[0m \u001b[43mdriver2\u001b[49m\u001b[38;5;241;43m.\u001b[39;49m\u001b[43mget\u001b[49m\u001b[43m(\u001b[49m\u001b[38;5;124;43m\"\u001b[39;49m\u001b[38;5;124;43mhttps://archive.ics.uci.edu/\u001b[39;49m\u001b[38;5;124;43m\"\u001b[39;49m\u001b[43m)\u001b[49m\n",
      "File \u001b[1;32m~\\anaconda3\\lib\\site-packages\\selenium\\webdriver\\remote\\webdriver.py:455\u001b[0m, in \u001b[0;36mWebDriver.get\u001b[1;34m(self, url)\u001b[0m\n\u001b[0;32m    451\u001b[0m \u001b[38;5;28;01mdef\u001b[39;00m \u001b[38;5;21mget\u001b[39m(\u001b[38;5;28mself\u001b[39m, url: \u001b[38;5;28mstr\u001b[39m) \u001b[38;5;241m-\u001b[39m\u001b[38;5;241m>\u001b[39m \u001b[38;5;28;01mNone\u001b[39;00m:\n\u001b[0;32m    452\u001b[0m     \u001b[38;5;124;03m\"\"\"\u001b[39;00m\n\u001b[0;32m    453\u001b[0m \u001b[38;5;124;03m    Loads a web page in the current browser session.\u001b[39;00m\n\u001b[0;32m    454\u001b[0m \u001b[38;5;124;03m    \"\"\"\u001b[39;00m\n\u001b[1;32m--> 455\u001b[0m     \u001b[38;5;28;43mself\u001b[39;49m\u001b[38;5;241;43m.\u001b[39;49m\u001b[43mexecute\u001b[49m\u001b[43m(\u001b[49m\u001b[43mCommand\u001b[49m\u001b[38;5;241;43m.\u001b[39;49m\u001b[43mGET\u001b[49m\u001b[43m,\u001b[49m\u001b[43m \u001b[49m\u001b[43m{\u001b[49m\u001b[38;5;124;43m\"\u001b[39;49m\u001b[38;5;124;43murl\u001b[39;49m\u001b[38;5;124;43m\"\u001b[39;49m\u001b[43m:\u001b[49m\u001b[43m \u001b[49m\u001b[43murl\u001b[49m\u001b[43m}\u001b[49m\u001b[43m)\u001b[49m\n",
      "File \u001b[1;32m~\\anaconda3\\lib\\site-packages\\selenium\\webdriver\\remote\\webdriver.py:444\u001b[0m, in \u001b[0;36mWebDriver.execute\u001b[1;34m(self, driver_command, params)\u001b[0m\n\u001b[0;32m    442\u001b[0m response \u001b[38;5;241m=\u001b[39m \u001b[38;5;28mself\u001b[39m\u001b[38;5;241m.\u001b[39mcommand_executor\u001b[38;5;241m.\u001b[39mexecute(driver_command, params)\n\u001b[0;32m    443\u001b[0m \u001b[38;5;28;01mif\u001b[39;00m response:\n\u001b[1;32m--> 444\u001b[0m     \u001b[38;5;28;43mself\u001b[39;49m\u001b[38;5;241;43m.\u001b[39;49m\u001b[43merror_handler\u001b[49m\u001b[38;5;241;43m.\u001b[39;49m\u001b[43mcheck_response\u001b[49m\u001b[43m(\u001b[49m\u001b[43mresponse\u001b[49m\u001b[43m)\u001b[49m\n\u001b[0;32m    445\u001b[0m     response[\u001b[38;5;124m\"\u001b[39m\u001b[38;5;124mvalue\u001b[39m\u001b[38;5;124m\"\u001b[39m] \u001b[38;5;241m=\u001b[39m \u001b[38;5;28mself\u001b[39m\u001b[38;5;241m.\u001b[39m_unwrap_value(response\u001b[38;5;241m.\u001b[39mget(\u001b[38;5;124m\"\u001b[39m\u001b[38;5;124mvalue\u001b[39m\u001b[38;5;124m\"\u001b[39m, \u001b[38;5;28;01mNone\u001b[39;00m))\n\u001b[0;32m    446\u001b[0m     \u001b[38;5;28;01mreturn\u001b[39;00m response\n",
      "File \u001b[1;32m~\\anaconda3\\lib\\site-packages\\selenium\\webdriver\\remote\\errorhandler.py:249\u001b[0m, in \u001b[0;36mErrorHandler.check_response\u001b[1;34m(self, response)\u001b[0m\n\u001b[0;32m    247\u001b[0m         alert_text \u001b[38;5;241m=\u001b[39m value[\u001b[38;5;124m\"\u001b[39m\u001b[38;5;124malert\u001b[39m\u001b[38;5;124m\"\u001b[39m]\u001b[38;5;241m.\u001b[39mget(\u001b[38;5;124m\"\u001b[39m\u001b[38;5;124mtext\u001b[39m\u001b[38;5;124m\"\u001b[39m)\n\u001b[0;32m    248\u001b[0m     \u001b[38;5;28;01mraise\u001b[39;00m exception_class(message, screen, stacktrace, alert_text)  \u001b[38;5;66;03m# type: ignore[call-arg]  # mypy is not smart enough here\u001b[39;00m\n\u001b[1;32m--> 249\u001b[0m \u001b[38;5;28;01mraise\u001b[39;00m exception_class(message, screen, stacktrace)\n",
      "\u001b[1;31mWebDriverException\u001b[0m: Message: unknown error: net::ERR_ADDRESS_UNREACHABLE\n  (Session info: chrome=109.0.5414.120)\nStacktrace:\nBacktrace:\n\t(No symbol) [0x01046643]\n\t(No symbol) [0x00FDBE21]\n\t(No symbol) [0x00EDDA9D]\n\t(No symbol) [0x00ED9E22]\n\t(No symbol) [0x00ECFCFD]\n\t(No symbol) [0x00ED1101]\n\t(No symbol) [0x00ECFFDD]\n\t(No symbol) [0x00ECF3BC]\n\t(No symbol) [0x00ECF2D8]\n\t(No symbol) [0x00ECDC68]\n\t(No symbol) [0x00ECE512]\n\t(No symbol) [0x00EDF75B]\n\t(No symbol) [0x00F47727]\n\t(No symbol) [0x00F2FD7C]\n\t(No symbol) [0x00F46B09]\n\t(No symbol) [0x00F2FB76]\n\t(No symbol) [0x00F049C1]\n\t(No symbol) [0x00F05E5D]\n\tGetHandleVerifier [0x012BA142+2497106]\n\tGetHandleVerifier [0x012E85D3+2686691]\n\tGetHandleVerifier [0x012EBB9C+2700460]\n\tGetHandleVerifier [0x010F3B10+635936]\n\t(No symbol) [0x00FE4A1F]\n\t(No symbol) [0x00FEA418]\n\t(No symbol) [0x00FEA505]\n\t(No symbol) [0x00FF508B]\n\tBaseThreadInitThunk [0x76B06BD9+25]\n\tRtlGetFullPathName_UEx [0x77DD8FD2+1218]\n\tRtlGetFullPathName_UEx [0x77DD8F9D+1165]\n"
     ]
    }
   ],
   "source": [
    "#opening the Naukri page on automated Chrome Browser\n",
    "driver2.get(\"https://archive.ics.uci.edu/\")"
   ]
  },
  {
   "cell_type": "code",
   "execution_count": null,
   "id": "c4f6c68e",
   "metadata": {},
   "outputs": [],
   "source": []
  },
  {
   "cell_type": "code",
   "execution_count": null,
   "id": "22508a4c",
   "metadata": {},
   "outputs": [],
   "source": []
  },
  {
   "cell_type": "code",
   "execution_count": null,
   "id": "fdf6464b",
   "metadata": {},
   "outputs": [],
   "source": []
  },
  {
   "cell_type": "code",
   "execution_count": null,
   "id": "19872f94",
   "metadata": {},
   "outputs": [],
   "source": []
  },
  {
   "cell_type": "code",
   "execution_count": null,
   "id": "c4a42fe2",
   "metadata": {},
   "outputs": [],
   "source": []
  },
  {
   "cell_type": "code",
   "execution_count": null,
   "id": "6fef7cc8",
   "metadata": {},
   "outputs": [],
   "source": []
  },
  {
   "cell_type": "code",
   "execution_count": null,
   "id": "efea7f3d",
   "metadata": {},
   "outputs": [],
   "source": [
    "Q.3 Scrape the details of State-wise GDP of India from statisticstime.com.\n",
    "Url = http://statisticstimes.com/\n",
    "You have to find following details:\n",
    "A) Rank\n",
    "B) State\n",
    "C) GSDP(18-19)- at current prices\n",
    "D) GSDP(19-20)- at current prices\n",
    "E) Share(18-19)\n",
    "F) GDP($ billion)\n",
    "Note: - From statisticstimes home page you have to reach to economy page through code"
   ]
  },
  {
   "cell_type": "code",
   "execution_count": 77,
   "id": "c9be25f0",
   "metadata": {},
   "outputs": [
    {
     "ename": "WebDriverException",
     "evalue": "Message: unknown error: net::ERR_ADDRESS_UNREACHABLE\n  (Session info: chrome=109.0.5414.120)\nStacktrace:\nBacktrace:\n\t(No symbol) [0x01046643]\n\t(No symbol) [0x00FDBE21]\n\t(No symbol) [0x00EDDA9D]\n\t(No symbol) [0x00ED9E22]\n\t(No symbol) [0x00ECFCFD]\n\t(No symbol) [0x00ED1101]\n\t(No symbol) [0x00ECFFDD]\n\t(No symbol) [0x00ECF3BC]\n\t(No symbol) [0x00ECF2D8]\n\t(No symbol) [0x00ECDC68]\n\t(No symbol) [0x00ECE512]\n\t(No symbol) [0x00EDF75B]\n\t(No symbol) [0x00F47727]\n\t(No symbol) [0x00F2FD7C]\n\t(No symbol) [0x00F46B09]\n\t(No symbol) [0x00F2FB76]\n\t(No symbol) [0x00F049C1]\n\t(No symbol) [0x00F05E5D]\n\tGetHandleVerifier [0x012BA142+2497106]\n\tGetHandleVerifier [0x012E85D3+2686691]\n\tGetHandleVerifier [0x012EBB9C+2700460]\n\tGetHandleVerifier [0x010F3B10+635936]\n\t(No symbol) [0x00FE4A1F]\n\t(No symbol) [0x00FEA418]\n\t(No symbol) [0x00FEA505]\n\t(No symbol) [0x00FF508B]\n\tBaseThreadInitThunk [0x76B06BD9+25]\n\tRtlGetFullPathName_UEx [0x77DD8FD2+1218]\n\tRtlGetFullPathName_UEx [0x77DD8F9D+1165]\n",
     "output_type": "error",
     "traceback": [
      "\u001b[1;31m---------------------------------------------------------------------------\u001b[0m",
      "\u001b[1;31mWebDriverException\u001b[0m                        Traceback (most recent call last)",
      "Input \u001b[1;32mIn [77]\u001b[0m, in \u001b[0;36m<cell line: 4>\u001b[1;34m()\u001b[0m\n\u001b[0;32m      2\u001b[0m driver3\u001b[38;5;241m=\u001b[39mwebdriver\u001b[38;5;241m.\u001b[39mChrome(\u001b[38;5;124mr\u001b[39m\u001b[38;5;124m\"\u001b[39m\u001b[38;5;124mC:\u001b[39m\u001b[38;5;124m\\\u001b[39m\u001b[38;5;124mUsers\u001b[39m\u001b[38;5;124m\\\u001b[39m\u001b[38;5;124mskalk\u001b[39m\u001b[38;5;124m\\\u001b[39m\u001b[38;5;124mDownloads\u001b[39m\u001b[38;5;124m\\\u001b[39m\u001b[38;5;124mchromedriver_win32 (2)\u001b[39m\u001b[38;5;124m\\\u001b[39m\u001b[38;5;124mchromedriver.exe\u001b[39m\u001b[38;5;124m\"\u001b[39m)\n\u001b[0;32m      3\u001b[0m \u001b[38;5;66;03m#opening the Naukri page on automated Chrome Browser\u001b[39;00m\n\u001b[1;32m----> 4\u001b[0m \u001b[43mdriver3\u001b[49m\u001b[38;5;241;43m.\u001b[39;49m\u001b[43mget\u001b[49m\u001b[43m(\u001b[49m\u001b[38;5;124;43m\"\u001b[39;49m\u001b[38;5;124;43mhttp://statisticstimes.com/\u001b[39;49m\u001b[38;5;124;43m\"\u001b[39;49m\u001b[43m)\u001b[49m\n",
      "File \u001b[1;32m~\\anaconda3\\lib\\site-packages\\selenium\\webdriver\\remote\\webdriver.py:455\u001b[0m, in \u001b[0;36mWebDriver.get\u001b[1;34m(self, url)\u001b[0m\n\u001b[0;32m    451\u001b[0m \u001b[38;5;28;01mdef\u001b[39;00m \u001b[38;5;21mget\u001b[39m(\u001b[38;5;28mself\u001b[39m, url: \u001b[38;5;28mstr\u001b[39m) \u001b[38;5;241m-\u001b[39m\u001b[38;5;241m>\u001b[39m \u001b[38;5;28;01mNone\u001b[39;00m:\n\u001b[0;32m    452\u001b[0m     \u001b[38;5;124;03m\"\"\"\u001b[39;00m\n\u001b[0;32m    453\u001b[0m \u001b[38;5;124;03m    Loads a web page in the current browser session.\u001b[39;00m\n\u001b[0;32m    454\u001b[0m \u001b[38;5;124;03m    \"\"\"\u001b[39;00m\n\u001b[1;32m--> 455\u001b[0m     \u001b[38;5;28;43mself\u001b[39;49m\u001b[38;5;241;43m.\u001b[39;49m\u001b[43mexecute\u001b[49m\u001b[43m(\u001b[49m\u001b[43mCommand\u001b[49m\u001b[38;5;241;43m.\u001b[39;49m\u001b[43mGET\u001b[49m\u001b[43m,\u001b[49m\u001b[43m \u001b[49m\u001b[43m{\u001b[49m\u001b[38;5;124;43m\"\u001b[39;49m\u001b[38;5;124;43murl\u001b[39;49m\u001b[38;5;124;43m\"\u001b[39;49m\u001b[43m:\u001b[49m\u001b[43m \u001b[49m\u001b[43murl\u001b[49m\u001b[43m}\u001b[49m\u001b[43m)\u001b[49m\n",
      "File \u001b[1;32m~\\anaconda3\\lib\\site-packages\\selenium\\webdriver\\remote\\webdriver.py:444\u001b[0m, in \u001b[0;36mWebDriver.execute\u001b[1;34m(self, driver_command, params)\u001b[0m\n\u001b[0;32m    442\u001b[0m response \u001b[38;5;241m=\u001b[39m \u001b[38;5;28mself\u001b[39m\u001b[38;5;241m.\u001b[39mcommand_executor\u001b[38;5;241m.\u001b[39mexecute(driver_command, params)\n\u001b[0;32m    443\u001b[0m \u001b[38;5;28;01mif\u001b[39;00m response:\n\u001b[1;32m--> 444\u001b[0m     \u001b[38;5;28;43mself\u001b[39;49m\u001b[38;5;241;43m.\u001b[39;49m\u001b[43merror_handler\u001b[49m\u001b[38;5;241;43m.\u001b[39;49m\u001b[43mcheck_response\u001b[49m\u001b[43m(\u001b[49m\u001b[43mresponse\u001b[49m\u001b[43m)\u001b[49m\n\u001b[0;32m    445\u001b[0m     response[\u001b[38;5;124m\"\u001b[39m\u001b[38;5;124mvalue\u001b[39m\u001b[38;5;124m\"\u001b[39m] \u001b[38;5;241m=\u001b[39m \u001b[38;5;28mself\u001b[39m\u001b[38;5;241m.\u001b[39m_unwrap_value(response\u001b[38;5;241m.\u001b[39mget(\u001b[38;5;124m\"\u001b[39m\u001b[38;5;124mvalue\u001b[39m\u001b[38;5;124m\"\u001b[39m, \u001b[38;5;28;01mNone\u001b[39;00m))\n\u001b[0;32m    446\u001b[0m     \u001b[38;5;28;01mreturn\u001b[39;00m response\n",
      "File \u001b[1;32m~\\anaconda3\\lib\\site-packages\\selenium\\webdriver\\remote\\errorhandler.py:249\u001b[0m, in \u001b[0;36mErrorHandler.check_response\u001b[1;34m(self, response)\u001b[0m\n\u001b[0;32m    247\u001b[0m         alert_text \u001b[38;5;241m=\u001b[39m value[\u001b[38;5;124m\"\u001b[39m\u001b[38;5;124malert\u001b[39m\u001b[38;5;124m\"\u001b[39m]\u001b[38;5;241m.\u001b[39mget(\u001b[38;5;124m\"\u001b[39m\u001b[38;5;124mtext\u001b[39m\u001b[38;5;124m\"\u001b[39m)\n\u001b[0;32m    248\u001b[0m     \u001b[38;5;28;01mraise\u001b[39;00m exception_class(message, screen, stacktrace, alert_text)  \u001b[38;5;66;03m# type: ignore[call-arg]  # mypy is not smart enough here\u001b[39;00m\n\u001b[1;32m--> 249\u001b[0m \u001b[38;5;28;01mraise\u001b[39;00m exception_class(message, screen, stacktrace)\n",
      "\u001b[1;31mWebDriverException\u001b[0m: Message: unknown error: net::ERR_ADDRESS_UNREACHABLE\n  (Session info: chrome=109.0.5414.120)\nStacktrace:\nBacktrace:\n\t(No symbol) [0x01046643]\n\t(No symbol) [0x00FDBE21]\n\t(No symbol) [0x00EDDA9D]\n\t(No symbol) [0x00ED9E22]\n\t(No symbol) [0x00ECFCFD]\n\t(No symbol) [0x00ED1101]\n\t(No symbol) [0x00ECFFDD]\n\t(No symbol) [0x00ECF3BC]\n\t(No symbol) [0x00ECF2D8]\n\t(No symbol) [0x00ECDC68]\n\t(No symbol) [0x00ECE512]\n\t(No symbol) [0x00EDF75B]\n\t(No symbol) [0x00F47727]\n\t(No symbol) [0x00F2FD7C]\n\t(No symbol) [0x00F46B09]\n\t(No symbol) [0x00F2FB76]\n\t(No symbol) [0x00F049C1]\n\t(No symbol) [0x00F05E5D]\n\tGetHandleVerifier [0x012BA142+2497106]\n\tGetHandleVerifier [0x012E85D3+2686691]\n\tGetHandleVerifier [0x012EBB9C+2700460]\n\tGetHandleVerifier [0x010F3B10+635936]\n\t(No symbol) [0x00FE4A1F]\n\t(No symbol) [0x00FEA418]\n\t(No symbol) [0x00FEA505]\n\t(No symbol) [0x00FF508B]\n\tBaseThreadInitThunk [0x76B06BD9+25]\n\tRtlGetFullPathName_UEx [0x77DD8FD2+1218]\n\tRtlGetFullPathName_UEx [0x77DD8F9D+1165]\n"
     ]
    }
   ],
   "source": [
    "#lets connect to the driver\n",
    "driver3=webdriver.Chrome(r\"C:\\Users\\skalk\\Downloads\\chromedriver_win32 (2)\\chromedriver.exe\")\n",
    "#opening the Naukri page on automated Chrome Browser\n",
    "driver3.get(\"http://statisticstimes.com/\")"
   ]
  },
  {
   "cell_type": "code",
   "execution_count": null,
   "id": "ed3c5080",
   "metadata": {},
   "outputs": [],
   "source": []
  },
  {
   "cell_type": "code",
   "execution_count": null,
   "id": "4ed0e04f",
   "metadata": {},
   "outputs": [],
   "source": []
  },
  {
   "cell_type": "code",
   "execution_count": null,
   "id": "be671d23",
   "metadata": {},
   "outputs": [],
   "source": []
  },
  {
   "cell_type": "code",
   "execution_count": null,
   "id": "2701e088",
   "metadata": {},
   "outputs": [],
   "source": [
    "Q.4 Scrape the details of trending repositories on Github.com.\n",
    "Url = https://github.com/\n",
    "You have to find the following details:\n",
    "A) Repository title\n",
    "B) Repository description\n",
    "C) Contributors count\n",
    "D) Language used"
   ]
  },
  {
   "cell_type": "code",
   "execution_count": 78,
   "id": "f1d08e69",
   "metadata": {},
   "outputs": [],
   "source": [
    "#lets connect to the driver\n",
    "driver4=webdriver.Chrome(r\"C:\\Users\\skalk\\Downloads\\chromedriver_win32 (2)\\chromedriver.exe\")"
   ]
  },
  {
   "cell_type": "code",
   "execution_count": 80,
   "id": "13d8354d",
   "metadata": {},
   "outputs": [
    {
     "ename": "TimeoutException",
     "evalue": "Message: timeout: Timed out receiving message from renderer: 600.000\n  (Session info: chrome=109.0.5414.120)\nStacktrace:\nBacktrace:\n\t(No symbol) [0x01046643]\n\t(No symbol) [0x00FDBE21]\n\t(No symbol) [0x00EDDA9D]\n\t(No symbol) [0x00ECF55A]\n\t(No symbol) [0x00ECF2D8]\n\t(No symbol) [0x00ECDC68]\n\t(No symbol) [0x00ECE512]\n\t(No symbol) [0x00ECD205]\n\t(No symbol) [0x00ED91BC]\n\t(No symbol) [0x00ECD0D5]\n\t(No symbol) [0x00ECEE5A]\n\t(No symbol) [0x00ECDC68]\n\t(No symbol) [0x00ECE512]\n\t(No symbol) [0x00ECD205]\n\t(No symbol) [0x00ED671C]\n\t(No symbol) [0x00ECD0D5]\n\t(No symbol) [0x00ECEE5A]\n\t(No symbol) [0x00ECDC68]\n\t(No symbol) [0x00ECE512]\n\t(No symbol) [0x00ECD205]\n\t(No symbol) [0x00ED40E2]\n\t(No symbol) [0x00ECD0D5]\n\t(No symbol) [0x00ECEE5A]\n\t(No symbol) [0x00ECDC68]\n\t(No symbol) [0x00ECE512]\n\t(No symbol) [0x00ECD205]\n\t(No symbol) [0x00EC5606]\n\t(No symbol) [0x00ECD0D5]\n\t(No symbol) [0x00ECC670]\n\t(No symbol) [0x00ECC7BF]\n\t(No symbol) [0x00ECCC94]\n\t(No symbol) [0x00ECCAD8]\n\t(No symbol) [0x00EDF253]\n\t(No symbol) [0x00F46200]\n\t(No symbol) [0x00F2FB76]\n\t(No symbol) [0x00F049C1]\n\t(No symbol) [0x00F05E5D]\n\tGetHandleVerifier [0x012BA142+2497106]\n\tGetHandleVerifier [0x012E85D3+2686691]\n\tGetHandleVerifier [0x012EBB9C+2700460]\n\tGetHandleVerifier [0x010F3B10+635936]\n\t(No symbol) [0x00FE4A1F]\n\t(No symbol) [0x00FEA418]\n\t(No symbol) [0x00FEA505]\n\t(No symbol) [0x00FF508B]\n\tBaseThreadInitThunk [0x76B06BD9+25]\n\tRtlGetFullPathName_UEx [0x77DD8FD2+1218]\n\tRtlGetFullPathName_UEx [0x77DD8F9D+1165]\n",
     "output_type": "error",
     "traceback": [
      "\u001b[1;31m---------------------------------------------------------------------------\u001b[0m",
      "\u001b[1;31mTimeoutException\u001b[0m                          Traceback (most recent call last)",
      "Input \u001b[1;32mIn [80]\u001b[0m, in \u001b[0;36m<cell line: 2>\u001b[1;34m()\u001b[0m\n\u001b[0;32m      1\u001b[0m \u001b[38;5;66;03m#opening the Naukri page on automated Chrome Browser\u001b[39;00m\n\u001b[1;32m----> 2\u001b[0m \u001b[43mdriver4\u001b[49m\u001b[38;5;241;43m.\u001b[39;49m\u001b[43mget\u001b[49m\u001b[43m(\u001b[49m\u001b[38;5;124;43m\"\u001b[39;49m\u001b[38;5;124;43mhttps://github.com/\u001b[39;49m\u001b[38;5;124;43m\"\u001b[39;49m\u001b[43m)\u001b[49m\n",
      "File \u001b[1;32m~\\anaconda3\\lib\\site-packages\\selenium\\webdriver\\remote\\webdriver.py:455\u001b[0m, in \u001b[0;36mWebDriver.get\u001b[1;34m(self, url)\u001b[0m\n\u001b[0;32m    451\u001b[0m \u001b[38;5;28;01mdef\u001b[39;00m \u001b[38;5;21mget\u001b[39m(\u001b[38;5;28mself\u001b[39m, url: \u001b[38;5;28mstr\u001b[39m) \u001b[38;5;241m-\u001b[39m\u001b[38;5;241m>\u001b[39m \u001b[38;5;28;01mNone\u001b[39;00m:\n\u001b[0;32m    452\u001b[0m     \u001b[38;5;124;03m\"\"\"\u001b[39;00m\n\u001b[0;32m    453\u001b[0m \u001b[38;5;124;03m    Loads a web page in the current browser session.\u001b[39;00m\n\u001b[0;32m    454\u001b[0m \u001b[38;5;124;03m    \"\"\"\u001b[39;00m\n\u001b[1;32m--> 455\u001b[0m     \u001b[38;5;28;43mself\u001b[39;49m\u001b[38;5;241;43m.\u001b[39;49m\u001b[43mexecute\u001b[49m\u001b[43m(\u001b[49m\u001b[43mCommand\u001b[49m\u001b[38;5;241;43m.\u001b[39;49m\u001b[43mGET\u001b[49m\u001b[43m,\u001b[49m\u001b[43m \u001b[49m\u001b[43m{\u001b[49m\u001b[38;5;124;43m\"\u001b[39;49m\u001b[38;5;124;43murl\u001b[39;49m\u001b[38;5;124;43m\"\u001b[39;49m\u001b[43m:\u001b[49m\u001b[43m \u001b[49m\u001b[43murl\u001b[49m\u001b[43m}\u001b[49m\u001b[43m)\u001b[49m\n",
      "File \u001b[1;32m~\\anaconda3\\lib\\site-packages\\selenium\\webdriver\\remote\\webdriver.py:444\u001b[0m, in \u001b[0;36mWebDriver.execute\u001b[1;34m(self, driver_command, params)\u001b[0m\n\u001b[0;32m    442\u001b[0m response \u001b[38;5;241m=\u001b[39m \u001b[38;5;28mself\u001b[39m\u001b[38;5;241m.\u001b[39mcommand_executor\u001b[38;5;241m.\u001b[39mexecute(driver_command, params)\n\u001b[0;32m    443\u001b[0m \u001b[38;5;28;01mif\u001b[39;00m response:\n\u001b[1;32m--> 444\u001b[0m     \u001b[38;5;28;43mself\u001b[39;49m\u001b[38;5;241;43m.\u001b[39;49m\u001b[43merror_handler\u001b[49m\u001b[38;5;241;43m.\u001b[39;49m\u001b[43mcheck_response\u001b[49m\u001b[43m(\u001b[49m\u001b[43mresponse\u001b[49m\u001b[43m)\u001b[49m\n\u001b[0;32m    445\u001b[0m     response[\u001b[38;5;124m\"\u001b[39m\u001b[38;5;124mvalue\u001b[39m\u001b[38;5;124m\"\u001b[39m] \u001b[38;5;241m=\u001b[39m \u001b[38;5;28mself\u001b[39m\u001b[38;5;241m.\u001b[39m_unwrap_value(response\u001b[38;5;241m.\u001b[39mget(\u001b[38;5;124m\"\u001b[39m\u001b[38;5;124mvalue\u001b[39m\u001b[38;5;124m\"\u001b[39m, \u001b[38;5;28;01mNone\u001b[39;00m))\n\u001b[0;32m    446\u001b[0m     \u001b[38;5;28;01mreturn\u001b[39;00m response\n",
      "File \u001b[1;32m~\\anaconda3\\lib\\site-packages\\selenium\\webdriver\\remote\\errorhandler.py:249\u001b[0m, in \u001b[0;36mErrorHandler.check_response\u001b[1;34m(self, response)\u001b[0m\n\u001b[0;32m    247\u001b[0m         alert_text \u001b[38;5;241m=\u001b[39m value[\u001b[38;5;124m\"\u001b[39m\u001b[38;5;124malert\u001b[39m\u001b[38;5;124m\"\u001b[39m]\u001b[38;5;241m.\u001b[39mget(\u001b[38;5;124m\"\u001b[39m\u001b[38;5;124mtext\u001b[39m\u001b[38;5;124m\"\u001b[39m)\n\u001b[0;32m    248\u001b[0m     \u001b[38;5;28;01mraise\u001b[39;00m exception_class(message, screen, stacktrace, alert_text)  \u001b[38;5;66;03m# type: ignore[call-arg]  # mypy is not smart enough here\u001b[39;00m\n\u001b[1;32m--> 249\u001b[0m \u001b[38;5;28;01mraise\u001b[39;00m exception_class(message, screen, stacktrace)\n",
      "\u001b[1;31mTimeoutException\u001b[0m: Message: timeout: Timed out receiving message from renderer: 600.000\n  (Session info: chrome=109.0.5414.120)\nStacktrace:\nBacktrace:\n\t(No symbol) [0x01046643]\n\t(No symbol) [0x00FDBE21]\n\t(No symbol) [0x00EDDA9D]\n\t(No symbol) [0x00ECF55A]\n\t(No symbol) [0x00ECF2D8]\n\t(No symbol) [0x00ECDC68]\n\t(No symbol) [0x00ECE512]\n\t(No symbol) [0x00ECD205]\n\t(No symbol) [0x00ED91BC]\n\t(No symbol) [0x00ECD0D5]\n\t(No symbol) [0x00ECEE5A]\n\t(No symbol) [0x00ECDC68]\n\t(No symbol) [0x00ECE512]\n\t(No symbol) [0x00ECD205]\n\t(No symbol) [0x00ED671C]\n\t(No symbol) [0x00ECD0D5]\n\t(No symbol) [0x00ECEE5A]\n\t(No symbol) [0x00ECDC68]\n\t(No symbol) [0x00ECE512]\n\t(No symbol) [0x00ECD205]\n\t(No symbol) [0x00ED40E2]\n\t(No symbol) [0x00ECD0D5]\n\t(No symbol) [0x00ECEE5A]\n\t(No symbol) [0x00ECDC68]\n\t(No symbol) [0x00ECE512]\n\t(No symbol) [0x00ECD205]\n\t(No symbol) [0x00EC5606]\n\t(No symbol) [0x00ECD0D5]\n\t(No symbol) [0x00ECC670]\n\t(No symbol) [0x00ECC7BF]\n\t(No symbol) [0x00ECCC94]\n\t(No symbol) [0x00ECCAD8]\n\t(No symbol) [0x00EDF253]\n\t(No symbol) [0x00F46200]\n\t(No symbol) [0x00F2FB76]\n\t(No symbol) [0x00F049C1]\n\t(No symbol) [0x00F05E5D]\n\tGetHandleVerifier [0x012BA142+2497106]\n\tGetHandleVerifier [0x012E85D3+2686691]\n\tGetHandleVerifier [0x012EBB9C+2700460]\n\tGetHandleVerifier [0x010F3B10+635936]\n\t(No symbol) [0x00FE4A1F]\n\t(No symbol) [0x00FEA418]\n\t(No symbol) [0x00FEA505]\n\t(No symbol) [0x00FF508B]\n\tBaseThreadInitThunk [0x76B06BD9+25]\n\tRtlGetFullPathName_UEx [0x77DD8FD2+1218]\n\tRtlGetFullPathName_UEx [0x77DD8F9D+1165]\n"
     ]
    }
   ],
   "source": [
    "#opening the Naukri page on automated Chrome Browser\n",
    "driver4.get(\"https://github.com/\")"
   ]
  },
  {
   "cell_type": "code",
   "execution_count": null,
   "id": "5fb2302a",
   "metadata": {},
   "outputs": [],
   "source": []
  }
 ],
 "metadata": {
  "kernelspec": {
   "display_name": "Python 3 (ipykernel)",
   "language": "python",
   "name": "python3"
  },
  "language_info": {
   "codemirror_mode": {
    "name": "ipython",
    "version": 3
   },
   "file_extension": ".py",
   "mimetype": "text/x-python",
   "name": "python",
   "nbconvert_exporter": "python",
   "pygments_lexer": "ipython3",
   "version": "3.9.12"
  }
 },
 "nbformat": 4,
 "nbformat_minor": 5
}
